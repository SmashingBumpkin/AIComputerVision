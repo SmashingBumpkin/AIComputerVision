{
 "cells": [
  {
   "cell_type": "code",
   "execution_count": 6,
   "id": "10d8137b-a55c-47d2-98b9-68cca41ca884",
   "metadata": {},
   "outputs": [
    {
     "name": "stdout",
     "output_type": "stream",
     "text": [
      "Hellow woorolldld\n"
     ]
    },
    {
     "data": {
      "text/plain": [
       "9"
      ]
     },
     "execution_count": 6,
     "metadata": {},
     "output_type": "execute_result"
    }
   ],
   "source": [
    "print(\"Hellow woorolldld\")"
   ]
  },
  {
   "cell_type": "code",
   "execution_count": 2,
   "id": "aeae424f-1781-45f8-a3c1-3ecc2c9a6ac2",
   "metadata": {},
   "outputs": [
    {
     "name": "stdout",
     "output_type": "stream",
     "text": [
      "horrlf\n",
      "TEST\n"
     ]
    }
   ],
   "source": [
    "print(\"horrlf\")\n",
    "\n",
    "print(\"TEST\")"
   ]
  },
  {
   "cell_type": "code",
   "execution_count": 3,
   "id": "5b204a16-1f35-44ec-bbde-688e678bd102",
   "metadata": {},
   "outputs": [
    {
     "name": "stdout",
     "output_type": "stream",
     "text": [
      "hteht\n"
     ]
    }
   ],
   "source": [
    "print(\"hteht\")"
   ]
  },
  {
   "cell_type": "markdown",
   "id": "5e64d57d-5384-4bd2-be24-d9f0be2501e6",
   "metadata": {},
   "source": [
    "# title\n",
    "## title but smol\n",
    "##### title but smollestissimo\n",
    "*stylissimissiosmiossimo*\n",
    "**HUH**"
   ]
  },
  {
   "cell_type": "code",
   "execution_count": 12,
   "id": "e67ac5e7-11e8-474f-b422-ce04f97924f2",
   "metadata": {},
   "outputs": [
    {
     "name": "stdout",
     "output_type": "stream",
     "text": [
      "[1, 2, 3, 4, 5, 6, 4, 4, True, 4, False, 1.0]\n",
      "[1 2 3 4 5 6 4 4 1 4 0 1]\n",
      "[[2 3 4]\n",
      " [3 4 5]\n",
      " [4 5 6]]\n",
      "[[ True  True  True  True]\n",
      " [ True  True  True  True]\n",
      " [ True  True  True  True]]\n",
      "[0.   0.25 0.5  0.75 1.  ]\n",
      "[[0.96202692 0.26118264]\n",
      " [0.66226127 0.61070538]]\n",
      "[6.82845714 2.87532339 5.31249864 6.82958571 5.89367939 8.59005437\n",
      " 3.38981453 2.29736425 3.51811123 4.8493679 ]\n",
      "[8 1 4 0 7 0 2 9 0 4]\n",
      "[[ True False False]\n",
      " [False  True False]\n",
      " [False False  True]]\n",
      "array dims:  3 (3, 5, 3) 45\n",
      "[0 0 2]\n",
      "[10 10 10]\n",
      "[5 7 9]\n",
      "4\n",
      "99\n",
      "99\n",
      "[[8]\n",
      " [5]]\n",
      "[8 5 1]\n",
      "[8 5 5]\n"
     ]
    }
   ],
   "source": [
    "%run lesson1.py"
   ]
  },
  {
   "cell_type": "code",
   "execution_count": 9,
   "id": "6529f060-6da8-4a65-9fe7-c899934dfa92",
   "metadata": {},
   "outputs": [
    {
     "data": {
      "text/plain": [
       "'C:\\\\Users\\\\Charl\\\\OneDrive\\\\Documents\\\\GitHub\\\\AIComputerVision\\\\learning'"
      ]
     },
     "execution_count": 9,
     "metadata": {},
     "output_type": "execute_result"
    }
   ],
   "source": [
    "%pwd"
   ]
  },
  {
   "cell_type": "code",
   "execution_count": null,
   "id": "c3735a5a-1f78-4352-9f26-efa258c558d9",
   "metadata": {},
   "outputs": [],
   "source": []
  }
 ],
 "metadata": {
  "kernelspec": {
   "display_name": "Python 3 (ipykernel)",
   "language": "python",
   "name": "python3"
  },
  "language_info": {
   "codemirror_mode": {
    "name": "ipython",
    "version": 3
   },
   "file_extension": ".py",
   "mimetype": "text/x-python",
   "name": "python",
   "nbconvert_exporter": "python",
   "pygments_lexer": "ipython3",
   "version": "3.8.0"
  }
 },
 "nbformat": 4,
 "nbformat_minor": 5
}
