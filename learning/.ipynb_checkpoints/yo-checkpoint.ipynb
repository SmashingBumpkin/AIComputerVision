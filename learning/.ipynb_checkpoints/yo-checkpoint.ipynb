{
 "cells": [
  {
   "cell_type": "code",
   "execution_count": 2,
   "id": "34a12ab2-86bb-4f15-b5c8-57d3151231fa",
   "metadata": {},
   "outputs": [
    {
     "name": "stdout",
     "output_type": "stream",
     "text": [
      "[1, 2, 3, 4, 5, 6, 4, 4, True, 4, False, 1.0]\n",
      "[1 2 3 4 5 6 4 4 1 4 0 1]\n",
      "[[2 3 4]\n",
      " [3 4 5]\n",
      " [4 5 6]]\n",
      "[[ True  True  True  True]\n",
      " [ True  True  True  True]\n",
      " [ True  True  True  True]]\n",
      "[0.   0.25 0.5  0.75 1.  ]\n",
      "[[0.91897452 0.23002162]\n",
      " [0.82393432 0.32870964]]\n",
      "[ 6.49342694 12.75753058  5.72304655  8.32586023  4.68337162  9.95291974\n",
      "  4.88595184  6.69206564  1.97318122  4.37643708]\n",
      "[2 7 9 3 1 6 8 7 3 4]\n",
      "[[ True False False]\n",
      " [False  True False]\n",
      " [False False  True]]\n",
      "array dims:  3 (3, 5, 3) 45\n",
      "[6 8 3]\n",
      "[10 10 10]\n",
      "[5 7 9]\n",
      "4\n",
      "99\n",
      "99\n",
      "[[6]\n",
      " [1]]\n",
      "[6 1 0]\n",
      "[8 1 9]\n"
     ]
    }
   ],
   "source": [
    "import numpy as np\n",
    "\n",
    "mylist = [1,2,3,4,5,6,4,4,True,4, False, 1.0]\n",
    "nplist = np.array(mylist, dtype=\"float32\") # numpy data types correspond to C data types\n",
    "nplist = np.array(mylist, dtype=\"int8\")\n",
    "print(mylist)\n",
    "print(nplist)\n",
    "nplist = np.array([range(i,i+3) for i in [2,3,4]])\n",
    "print(nplist)\n",
    "nplist = np.zeros(10, dtype=bool)\n",
    "\n",
    "nplist = np.ones((3,4), dtype=bool)\n",
    "print(nplist)\n",
    "\n",
    "nplist = np.linspace(0,1,5) # 5 numbers equispaced in range 0 to 1\n",
    "print(nplist)\n",
    "nplist = np.random.random((2,2))\n",
    "print(nplist)\n",
    "nplist = np.random.normal(5,3,10) #10 numbers distributed about 5 with a sdev of 3\n",
    "print(nplist)\n",
    "nplist = np.random.randint(0,10,10) #10 ints randomly distributed between 0 and 10\n",
    "print(nplist)\n",
    "nplist = np.eye(3, dtype='bool') # identity matrix size 3\n",
    "print(nplist)\n",
    "\n",
    "nplist = np.random.randint(0,10,(3,5,3))\n",
    "print ('array dims: ', nplist.ndim, nplist.shape, nplist.size) # num dims, shape, size\n",
    "\n",
    "print(nplist[1][2])\n",
    "nplist[1][2] = 10.9\n",
    "print(nplist[1][2])\n",
    "\n",
    "nplist = np.arange(10)\n",
    "print(nplist[5::2])\n",
    "subarray = nplist[4:7]\n",
    "print(nplist[4])\n",
    "subarray[0] = 99\n",
    "print(nplist[4])\n",
    "copiedarray = nplist[4:7].copy()\n",
    "copiedarray[0] = 0\n",
    "print(nplist[4])\n",
    "\n",
    "nplist = np.random.randint(0,10,(3,3))\n",
    "subarray = nplist[:2,1:2]\n",
    "print(subarray)\n",
    "subarray = nplist[:,1]\n",
    "print(subarray)\n",
    "subarray = nplist[1,:]\n",
    "print(subarray)"
   ]
  },
  {
   "cell_type": "code",
   "execution_count": 3,
   "id": "5d31f030-84f0-4112-90dc-430cc05e249e",
   "metadata": {},
   "outputs": [
    {
     "data": {
      "text/plain": [
       "array([[0, 6, 3],\n",
       "       [8, 1, 9],\n",
       "       [6, 0, 2]])"
      ]
     },
     "execution_count": 3,
     "metadata": {},
     "output_type": "execute_result"
    }
   ],
   "source": [
    "nplist\n"
   ]
  },
  {
   "cell_type": "code",
   "execution_count": 9,
   "id": "5f9daece-1e88-4ae7-a739-6b48af21f188",
   "metadata": {},
   "outputs": [
    {
     "name": "stdout",
     "output_type": "stream",
     "text": [
      "[[1 1 3]\n",
      " [6 6 0]\n",
      " [9 8 3]]\n",
      "[3]\n"
     ]
    }
   ],
   "source": [
    "mylist = np.random.randint(0,10,(3,3))\n",
    "row_col = mylist[0,2:]\n",
    "print(mylist)\n",
    "print(row_col)"
   ]
  },
  {
   "cell_type": "code",
   "execution_count": 13,
   "id": "d21a6a99-4435-4ffd-895d-537ddae386b7",
   "metadata": {},
   "outputs": [
    {
     "name": "stdout",
     "output_type": "stream",
     "text": [
      "[[1 1]\n",
      " [6 6]]\n",
      "[[100000      1      3]\n",
      " [     6      6      0]\n",
      " [     9      8      3]]\n"
     ]
    }
   ],
   "source": [
    "sub_array = mylist[:2,:2]\n",
    "print(sub_array)\n",
    "sub_array[0][0] = 100000\n",
    "print(mylist)"
   ]
  },
  {
   "cell_type": "code",
   "execution_count": 30,
   "id": "b8d4e399-0458-47f4-8912-a2ad9979c077",
   "metadata": {},
   "outputs": [
    {
     "name": "stdout",
     "output_type": "stream",
     "text": [
      "[1 2 3 4 5 6 7 8 9]\n",
      "[[[1 2 3]]\n",
      "\n",
      " [[4 5 6]]\n",
      "\n",
      " [[7 8 9]]]\n",
      "[[1]\n",
      " [2]\n",
      " [3]\n",
      " [4]\n",
      " [5]\n",
      " [6]\n",
      " [7]\n",
      " [8]\n",
      " [9]]\n"
     ]
    }
   ],
   "source": [
    "mylist = np.arange(1,10)\n",
    "print(mylist)\n",
    "grid = mylist.reshape((3,1,3))\n",
    "print(grid)\n",
    "column = mylist[:,np.newaxis]\n",
    "print(column)"
   ]
  },
  {
   "cell_type": "code",
   "execution_count": 44,
   "id": "e19eb7ff-3685-4c32-817e-22ebf565adb2",
   "metadata": {},
   "outputs": [
    {
     "name": "stdout",
     "output_type": "stream",
     "text": [
      "[1 2 3 4 5 6 7]\n",
      "[[1 2 3]\n",
      " [1 2 3]\n",
      " [1 2 3]\n",
      " [1 2 3]]\n",
      "[[1 2 3]\n",
      " [1 2 3]\n",
      " [7 8 9]]\n",
      "[[1 2 3 6]\n",
      " [1 2 3 7]]\n",
      "[[[1 1]\n",
      "  [2 2]\n",
      "  [3 3]]\n",
      "\n",
      " [[1 1]\n",
      "  [2 2]\n",
      "  [3 3]]]\n"
     ]
    }
   ],
   "source": [
    "array1 = [1,2,3,4]\n",
    "array2 = [5,6,7]\n",
    "newarray = np.concatenate([array1,array2])\n",
    "print(newarray)\n",
    "\n",
    "array3 = np.array([[1,2,3],[1,2,3]])\n",
    "newarray = np.concatenate([array3,array3])\n",
    "print(newarray)\n",
    "\n",
    "array4 = np.array([7,8,9])\n",
    "newarray = np.vstack([array3,array4])\n",
    "print(newarray)\n",
    "\n",
    "array5 = np.array([[6],[7]])\n",
    "newarray = np.hstack([array3,array5])\n",
    "print(newarray)\n",
    "\n",
    "newarray = np.dstack([array3,array3])\n",
    "print(newarray)\n"
   ]
  },
  {
   "cell_type": "code",
   "execution_count": 38,
   "id": "9ec24cd4-8709-4981-b550-88bbe2126db7",
   "metadata": {},
   "outputs": [
    {
     "ename": "AttributeError",
     "evalue": "'numpy.ndarray' object has no attribute 'dim'",
     "output_type": "error",
     "traceback": [
      "\u001b[1;31m---------------------------------------------------------------------------\u001b[0m",
      "\u001b[1;31mAttributeError\u001b[0m                            Traceback (most recent call last)",
      "Cell \u001b[1;32mIn[38], line 1\u001b[0m\n\u001b[1;32m----> 1\u001b[0m \u001b[43marray4\u001b[49m\u001b[38;5;241;43m.\u001b[39;49m\u001b[43mdim\u001b[49m()\n",
      "\u001b[1;31mAttributeError\u001b[0m: 'numpy.ndarray' object has no attribute 'dim'"
     ]
    }
   ],
   "source": []
  },
  {
   "cell_type": "code",
   "execution_count": 67,
   "id": "8b1da530-ce96-451b-8953-d3305dcf9a85",
   "metadata": {},
   "outputs": [
    {
     "name": "stdout",
     "output_type": "stream",
     "text": [
      "[1 2 3] [4 5] [6 7 8 9]\n",
      "[[ 1  2  3  4]\n",
      " [ 5  6  7  8]\n",
      " [ 9 10 11 12]\n",
      " [13 14 15 16]]\n",
      "[[1 2 3 4]\n",
      " [5 6 7 8]] \n",
      " [[ 9 10 11 12]\n",
      " [13 14 15 16]]\n",
      "[[[ 1  2]\n",
      "  [ 5  6]\n",
      "  [ 9 10]\n",
      "  [13 14]]\n",
      "\n",
      " [[17 18]\n",
      "  [21 22]\n",
      "  [25 26]\n",
      "  [29 30]]\n",
      "\n",
      " [[33 34]\n",
      "  [37 38]\n",
      "  [41 42]\n",
      "  [45 46]]\n",
      "\n",
      " [[49 50]\n",
      "  [53 54]\n",
      "  [57 58]\n",
      "  [61 62]]] \n",
      " [[[ 3  4]\n",
      "  [ 7  8]\n",
      "  [11 12]\n",
      "  [15 16]]\n",
      "\n",
      " [[19 20]\n",
      "  [23 24]\n",
      "  [27 28]\n",
      "  [31 32]]\n",
      "\n",
      " [[35 36]\n",
      "  [39 40]\n",
      "  [43 44]\n",
      "  [47 48]]\n",
      "\n",
      " [[51 52]\n",
      "  [55 56]\n",
      "  [59 60]\n",
      "  [63 64]]]\n"
     ]
    }
   ],
   "source": [
    "array1 = np.arange(1,10)\n",
    "x1,x2,x3 = np.split(array1,[3,5])\n",
    "print(x1,x2,x3)\n",
    "\n",
    "array1 = np.arange(1,17).reshape((4,4))\n",
    "print(array1)\n",
    "upper,lower = np.vsplit(array1,[2])\n",
    "print(upper, '\\n',lower)\n",
    "\n",
    "\n",
    "array1 = np.arange(1,65).reshape((4,4,4))\n",
    "upper,lower = np.dsplit(array1,[2])\n",
    "print(upper, '\\n',lower)"
   ]
  }
 ],
 "metadata": {
  "kernelspec": {
   "display_name": "Python 3 (ipykernel)",
   "language": "python",
   "name": "python3"
  },
  "language_info": {
   "codemirror_mode": {
    "name": "ipython",
    "version": 3
   },
   "file_extension": ".py",
   "mimetype": "text/x-python",
   "name": "python",
   "nbconvert_exporter": "python",
   "pygments_lexer": "ipython3",
   "version": "3.8.0"
  }
 },
 "nbformat": 4,
 "nbformat_minor": 5
}
